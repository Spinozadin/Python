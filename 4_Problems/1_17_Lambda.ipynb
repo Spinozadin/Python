{
  "cells": [
    {
      "cell_type": "markdown",
      "id": "fb3e5a5f",
      "metadata": {
        "id": "fb3e5a5f"
      },
      "source": [
        "<a target=\"_blank\" href=\"https://colab.research.google.com/github/lukebarousse/Python_Data_Analytics_Course/blob/main/4_Problems/1_17_Lambda.ipynb\">\n",
        "  <img src=\"https://colab.research.google.com/assets/colab-badge.svg\" alt=\"Open In Colab\"/>\n",
        "</a>"
      ]
    },
    {
      "cell_type": "markdown",
      "id": "d1f5cdd2",
      "metadata": {
        "id": "d1f5cdd2"
      },
      "source": [
        "## 🟩 Calculate Average Salary (1.17.1)"
      ]
    },
    {
      "cell_type": "code",
      "execution_count": null,
      "id": "d1091543",
      "metadata": {
        "id": "d1091543"
      },
      "outputs": [],
      "source": [
        "# Code Needed\n",
        "salaries = [95000, 120000, 105000, 90000, 130000]"
      ]
    },
    {
      "cell_type": "markdown",
      "id": "045da046",
      "metadata": {
        "id": "045da046"
      },
      "source": [
        "---"
      ]
    },
    {
      "cell_type": "markdown",
      "id": "5f3ad67e",
      "metadata": {
        "id": "5f3ad67e"
      },
      "source": [
        "## 🟨 Filter Job Titles (1.17.2)"
      ]
    },
    {
      "cell_type": "code",
      "execution_count": null,
      "id": "cf09815a",
      "metadata": {
        "id": "cf09815a"
      },
      "outputs": [],
      "source": [
        "# Code Needed\n",
        "job_titles = ['Data Scientist', 'Data Engineer', 'Machine Learning Engineer', 'Data Analyst']"
      ]
    },
    {
      "cell_type": "markdown",
      "id": "e43299da",
      "metadata": {
        "id": "e43299da"
      },
      "source": [
        "---"
      ]
    },
    {
      "cell_type": "markdown",
      "id": "f0ba4566",
      "metadata": {
        "id": "f0ba4566"
      },
      "source": [
        "## 🟥 Filter Remote Python Jobs (1.17.3)"
      ]
    },
    {
      "cell_type": "code",
      "execution_count": null,
      "id": "3c4339b8",
      "metadata": {
        "id": "3c4339b8"
      },
      "outputs": [],
      "source": [
        "# Code Needed\n",
        "job_postings = [\n",
        "    {'title': 'Data Scientist', 'skills': ['Python', 'SQL'], 'remote': True},\n",
        "    {'title': 'Data Analyst', 'skills': ['Excel', 'SQL'], 'remote': False},\n",
        "    {'title': 'Machine Learning Engineer', 'skills': ['Python', 'TensorFlow'], 'remote': True},\n",
        "    {'title': 'Software Developer', 'skills': ['Java', 'C++'], 'remote': True}\n",
        "]"
      ]
    },
    {
      "cell_type": "markdown",
      "id": "96baab4a",
      "metadata": {
        "id": "96baab4a"
      },
      "source": [
        "---"
      ]
    }
  ],
  "metadata": {
    "colab": {
      "provenance": []
    }
  },
  "nbformat": 4,
  "nbformat_minor": 5
}
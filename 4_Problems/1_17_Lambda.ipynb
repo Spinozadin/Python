{
  "cells": [
    {
      "cell_type": "markdown",
      "id": "fb3e5a5f",
      "metadata": {
        "id": "fb3e5a5f"
      },
      "source": [
        "<a target=\"_blank\" href=\"https://colab.research.google.com/github/lukebarousse/Python_Data_Analytics_Course/blob/main/4_Problems/1_17_Lambda.ipynb\">\n",
        "  <img src=\"https://colab.research.google.com/assets/colab-badge.svg\" alt=\"Open In Colab\"/>\n",
        "</a>"
      ]
    },
    {
      "cell_type": "markdown",
      "id": "d1f5cdd2",
      "metadata": {
        "id": "d1f5cdd2"
      },
      "source": [
        "## 🟩 Calculate Average Salary (1.17.1)"
      ]
    },
    {
      "cell_type": "code",
      "execution_count": 7,
      "id": "d1091543",
      "metadata": {
        "id": "d1091543",
        "outputId": "be78694a-9107-4f93-c7bd-4af8bfd46bbe",
        "colab": {
          "base_uri": "https://localhost:8080/"
        }
      },
      "outputs": [
        {
          "output_type": "execute_result",
          "data": {
            "text/plain": [
              "108000.0"
            ]
          },
          "metadata": {},
          "execution_count": 7
        }
      ],
      "source": [
        "# Code Needed\n",
        "salaries = [95000, 120000, 105000, 90000, 130000]\n",
        "\n",
        "avg_salary = (lambda x: sum(salaries) / len(salaries))\n",
        "\n",
        "avg_salary(salaries)"
      ]
    },
    {
      "cell_type": "markdown",
      "id": "045da046",
      "metadata": {
        "id": "045da046"
      },
      "source": [
        "---"
      ]
    },
    {
      "cell_type": "markdown",
      "id": "5f3ad67e",
      "metadata": {
        "id": "5f3ad67e"
      },
      "source": [
        "## 🟨 Filter Job Titles (1.17.2)"
      ]
    },
    {
      "cell_type": "code",
      "execution_count": 12,
      "id": "cf09815a",
      "metadata": {
        "id": "cf09815a",
        "outputId": "ccc8bafc-aa19-4fd2-bda1-1ada84821fe5",
        "colab": {
          "base_uri": "https://localhost:8080/"
        }
      },
      "outputs": [
        {
          "output_type": "execute_result",
          "data": {
            "text/plain": [
              "['Data Scientist', 'Data Engineer', 'Data Analyst']"
            ]
          },
          "metadata": {},
          "execution_count": 12
        }
      ],
      "source": [
        "# Code Needed\n",
        "job_titles = ['Data Scientist', 'Data Engineer', 'Machine Learning Engineer', 'Data Analyst']\n",
        "\n",
        "contains_data = lambda title: 'Data' in title\n",
        "filtered_titles = list(filter(contains_data, job_titles))\n",
        "filtered_titles"
      ]
    },
    {
      "cell_type": "markdown",
      "id": "e43299da",
      "metadata": {
        "id": "e43299da"
      },
      "source": [
        "---"
      ]
    },
    {
      "cell_type": "markdown",
      "id": "f0ba4566",
      "metadata": {
        "id": "f0ba4566"
      },
      "source": [
        "## 🟥 Filter Remote Python Jobs (1.17.3)"
      ]
    },
    {
      "cell_type": "code",
      "execution_count": 19,
      "id": "3c4339b8",
      "metadata": {
        "id": "3c4339b8",
        "outputId": "3755a2a3-8b6b-41e9-c4c4-c4e47d038100",
        "colab": {
          "base_uri": "https://localhost:8080/"
        }
      },
      "outputs": [
        {
          "output_type": "execute_result",
          "data": {
            "text/plain": [
              "[{'title': 'Data Scientist', 'skills': ['Python', 'SQL'], 'remote': True},\n",
              " {'title': 'Machine Learning Engineer',\n",
              "  'skills': ['Python', 'TensorFlow'],\n",
              "  'remote': True}]"
            ]
          },
          "metadata": {},
          "execution_count": 19
        }
      ],
      "source": [
        "# Code Needed\n",
        "job_postings = [\n",
        "    {'title': 'Data Scientist', 'skills': ['Python', 'SQL'], 'remote': True},\n",
        "    {'title': 'Data Analyst', 'skills': ['Excel', 'SQL'], 'remote': False},\n",
        "    {'title': 'Machine Learning Engineer', 'skills': ['Python', 'TensorFlow'], 'remote': True},\n",
        "    {'title': 'Software Developer', 'skills': ['Java', 'C++'], 'remote': True}\n",
        "]\n",
        "\n",
        "filter_postings = lambda posting: 'Python' in posting['skills'] and posting['remote']\n",
        "remote_python_postings = list(filter(filter_postings, job_postings))\n",
        "remote_python_postings"
      ]
    },
    {
      "cell_type": "markdown",
      "id": "96baab4a",
      "metadata": {
        "id": "96baab4a"
      },
      "source": [
        "---"
      ]
    }
  ],
  "metadata": {
    "colab": {
      "provenance": []
    },
    "language_info": {
      "name": "python"
    },
    "kernelspec": {
      "name": "python3",
      "display_name": "Python 3"
    }
  },
  "nbformat": 4,
  "nbformat_minor": 5
}
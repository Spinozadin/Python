{
  "cells": [
    {
      "cell_type": "markdown",
      "id": "036c0cb0",
      "metadata": {
        "id": "036c0cb0"
      },
      "source": [
        "<a target=\"_blank\" href=\"https://colab.research.google.com/github/lukebarousse/Python_Data_Analytics_Course/blob/main/4_Problems/1_12_Operators Part 2.ipynb\">\n",
        "  <img src=\"https://colab.research.google.com/assets/colab-badge.svg\" alt=\"Open In Colab\"/>\n",
        "</a>"
      ]
    },
    {
      "cell_type": "markdown",
      "id": "e576e738",
      "metadata": {
        "id": "e576e738"
      },
      "source": [
        "## 🟩 Check Object Identity (1.12.1)"
      ]
    },
    {
      "cell_type": "code",
      "execution_count": 3,
      "id": "28d20b63",
      "metadata": {
        "id": "28d20b63",
        "outputId": "50ea0cde-c32f-4c97-921a-6ac3649971bf",
        "colab": {
          "base_uri": "https://localhost:8080/"
        }
      },
      "outputs": [
        {
          "output_type": "stream",
          "name": "stdout",
          "text": [
            "True\n"
          ]
        }
      ],
      "source": [
        "# Code Needed\n",
        "job_title1 = 'Data Engineer'\n",
        "job_title2 = 'Data Scientist'\n",
        "\n",
        "print(job_title1 is not job_title2)"
      ]
    },
    {
      "cell_type": "markdown",
      "id": "578c026c",
      "metadata": {
        "id": "578c026c"
      },
      "source": [
        "---"
      ]
    },
    {
      "cell_type": "markdown",
      "id": "55d410b4",
      "metadata": {
        "id": "55d410b4"
      },
      "source": [
        "## 🟩 Check Membership in List (1.12.2)"
      ]
    },
    {
      "cell_type": "code",
      "execution_count": 5,
      "id": "83716fca",
      "metadata": {
        "id": "83716fca",
        "outputId": "8c0bbc99-8d93-4f57-c45e-2462bd84cfd0",
        "colab": {
          "base_uri": "https://localhost:8080/"
        }
      },
      "outputs": [
        {
          "output_type": "stream",
          "name": "stdout",
          "text": [
            "True\n"
          ]
        }
      ],
      "source": [
        "# Code Needed\n",
        "job_locations = ['New York', 'San Francisco', 'Austin']\n",
        "\n",
        "print('New York' in job_locations)"
      ]
    },
    {
      "cell_type": "markdown",
      "id": "3fea50ad",
      "metadata": {
        "id": "3fea50ad"
      },
      "source": [
        "---"
      ]
    },
    {
      "cell_type": "markdown",
      "id": "32e38743",
      "metadata": {
        "id": "32e38743"
      },
      "source": [
        "## 🟨 Check Substring Not in String (1.12.3)"
      ]
    },
    {
      "cell_type": "code",
      "execution_count": 9,
      "id": "cffe612f",
      "metadata": {
        "id": "cffe612f",
        "outputId": "48c3fecb-4aa2-44cf-dbf0-8d7875be8549",
        "colab": {
          "base_uri": "https://localhost:8080/"
        }
      },
      "outputs": [
        {
          "output_type": "stream",
          "name": "stdout",
          "text": [
            "True\n"
          ]
        }
      ],
      "source": [
        "# Code Needed\n",
        "job_title = 'Data Analyst'\n",
        "job_description = 'Data Scientist at Tech Corp'\n",
        "\n",
        "print(job_title not in job_description)\n"
      ]
    },
    {
      "cell_type": "markdown",
      "id": "2fe810e2",
      "metadata": {
        "id": "2fe810e2"
      },
      "source": [
        "---"
      ]
    },
    {
      "cell_type": "markdown",
      "id": "d93644ab",
      "metadata": {
        "id": "d93644ab"
      },
      "source": [
        "## 🟨 Check Multiple Memberships (1.12.4)"
      ]
    },
    {
      "cell_type": "code",
      "execution_count": 12,
      "id": "66430c97",
      "metadata": {
        "id": "66430c97",
        "outputId": "edb1b9ff-c68e-4212-d5c0-333ead25db29",
        "colab": {
          "base_uri": "https://localhost:8080/"
        }
      },
      "outputs": [
        {
          "output_type": "stream",
          "name": "stdout",
          "text": [
            "True\n"
          ]
        }
      ],
      "source": [
        "# Code Needed\n",
        "job_titles = ['Data Scientist', 'Data Analyst', 'Machine Learning Engineer']\n",
        "\n",
        "print('Data Analyst' in job_titles and 'Machine Learning Engineer' in job_titles)"
      ]
    },
    {
      "cell_type": "markdown",
      "id": "844a092e",
      "metadata": {
        "id": "844a092e"
      },
      "source": [
        "---"
      ]
    },
    {
      "cell_type": "markdown",
      "id": "98e8e55f",
      "metadata": {
        "id": "98e8e55f"
      },
      "source": [
        "## 🟥 Bitwise OR Operation (1.12.5)"
      ]
    },
    {
      "cell_type": "code",
      "execution_count": 15,
      "id": "c6f178cc",
      "metadata": {
        "id": "c6f178cc",
        "outputId": "223cafe4-d93c-4f8d-a2e9-801fb8fe03f6",
        "colab": {
          "base_uri": "https://localhost:8080/"
        }
      },
      "outputs": [
        {
          "output_type": "stream",
          "name": "stdout",
          "text": [
            "116720\n"
          ]
        }
      ],
      "source": [
        "# Code Needed\n",
        "salary1 = 100000\n",
        "salary2 = 50000\n",
        "\n",
        "result = salary1 | salary2\n",
        "print(result)"
      ]
    },
    {
      "cell_type": "markdown",
      "id": "13780309",
      "metadata": {
        "id": "13780309"
      },
      "source": [
        "---"
      ]
    }
  ],
  "metadata": {
    "colab": {
      "provenance": []
    },
    "language_info": {
      "name": "python"
    },
    "kernelspec": {
      "name": "python3",
      "display_name": "Python 3"
    }
  },
  "nbformat": 4,
  "nbformat_minor": 5
}
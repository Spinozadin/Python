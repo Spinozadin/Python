{
  "cells": [
    {
      "cell_type": "markdown",
      "metadata": {
        "id": "view-in-github",
        "colab_type": "text"
      },
      "source": [
        "<a href=\"https://colab.research.google.com/github/Spinozadin/Python/blob/main/4_Problems/1_13_Loops.ipynb\" target=\"_parent\"><img src=\"https://colab.research.google.com/assets/colab-badge.svg\" alt=\"Open In Colab\"/></a>"
      ]
    },
    {
      "cell_type": "markdown",
      "id": "d307ee11",
      "metadata": {
        "id": "d307ee11"
      },
      "source": [
        "<a target=\"_blank\" href=\"https://colab.research.google.com/github/lukebarousse/Python_Data_Analytics_Course/blob/main/4_Problems/1_13_Loops.ipynb\">\n",
        "  <img src=\"https://colab.research.google.com/assets/colab-badge.svg\" alt=\"Open In Colab\"/>\n",
        "</a>"
      ]
    },
    {
      "cell_type": "markdown",
      "id": "37897aa9",
      "metadata": {
        "id": "37897aa9"
      },
      "source": [
        "## 🟩 Print Job Titles (1.13.1)"
      ]
    },
    {
      "cell_type": "code",
      "execution_count": 2,
      "id": "45d217e3",
      "metadata": {
        "id": "45d217e3",
        "outputId": "0289477b-293d-4ccb-b2b2-569f2f9da310",
        "colab": {
          "base_uri": "https://localhost:8080/"
        }
      },
      "outputs": [
        {
          "output_type": "stream",
          "name": "stdout",
          "text": [
            "Data Scientist\n",
            "Data Analyst\n",
            "Machine Learning Engineer\n"
          ]
        }
      ],
      "source": [
        "# Code Needed\n",
        "job_titles = ['Data Scientist', 'Data Analyst', 'Machine Learning Engineer']\n",
        "for title in job_titles:\n",
        "  print(title)"
      ]
    },
    {
      "cell_type": "markdown",
      "id": "1943a324",
      "metadata": {
        "id": "1943a324"
      },
      "source": [
        "---"
      ]
    },
    {
      "cell_type": "markdown",
      "id": "90020e24",
      "metadata": {
        "id": "90020e24"
      },
      "source": [
        "## 🟩 Total Job Postings (1.13.2)"
      ]
    },
    {
      "cell_type": "code",
      "execution_count": 7,
      "id": "038f046a",
      "metadata": {
        "id": "038f046a"
      },
      "outputs": [],
      "source": [
        "# Code Needed\n",
        "job_postings = [5, 10, 15, 20, 25]\n",
        "\n",
        "total_postings = 0\n",
        "index = 0\n",
        "\n",
        "while index < len(job_postings):\n",
        "    total_postings += job_postings[index]\n",
        "    index += 1\n",
        "print(total_postings)"
      ]
    },
    {
      "cell_type": "markdown",
      "id": "b4abe1cc",
      "metadata": {
        "id": "b4abe1cc"
      },
      "source": [
        "---"
      ]
    },
    {
      "cell_type": "markdown",
      "id": "4eec072a",
      "metadata": {
        "id": "4eec072a"
      },
      "source": [
        "## 🟨 Print Job Titles with Index (1.13.3)"
      ]
    },
    {
      "cell_type": "code",
      "execution_count": 12,
      "id": "ee175f7b",
      "metadata": {
        "id": "ee175f7b",
        "outputId": "0fd04e01-5428-4175-f174-be7f69e15e5a",
        "colab": {
          "base_uri": "https://localhost:8080/"
        }
      },
      "outputs": [
        {
          "output_type": "stream",
          "name": "stdout",
          "text": [
            "0: Data Scientist\n",
            "1: Data Analyst\n",
            "2: Machine Learning Engineer\n"
          ]
        }
      ],
      "source": [
        "# Code Needed\n",
        "job_titles = ['Data Scientist', 'Data Analyst', 'Machine Learning Engineer']\n",
        "\n",
        "for index, title in enumerate(job_titles):\n",
        "    print(f'{index}: {title}')"
      ]
    },
    {
      "cell_type": "markdown",
      "id": "d2d5f706",
      "metadata": {
        "id": "d2d5f706"
      },
      "source": [
        "---"
      ]
    },
    {
      "cell_type": "markdown",
      "id": "7001cfa8",
      "metadata": {
        "id": "7001cfa8"
      },
      "source": [
        "## 🟨 Find First Engineer (1.13.4)"
      ]
    },
    {
      "cell_type": "code",
      "execution_count": 19,
      "id": "724ac1bf",
      "metadata": {
        "id": "724ac1bf",
        "outputId": "4a1cf278-adc6-41fa-e876-f1a5841dcbfc",
        "colab": {
          "base_uri": "https://localhost:8080/"
        }
      },
      "outputs": [
        {
          "output_type": "stream",
          "name": "stdout",
          "text": [
            "Machine Learning Engineer\n"
          ]
        }
      ],
      "source": [
        "# Code Needed\n",
        "job_titles = ['Data Scientist', 'Data Analyst', 'Machine Learning Engineer', 'Software Engineer']\n",
        "\n",
        "index = 0\n",
        "while index < len(job_titles):\n",
        "    if 'Engineer' in job_titles[index]:\n",
        "        print(job_titles[index])\n",
        "        break\n",
        "    index += 1\n"
      ]
    },
    {
      "cell_type": "markdown",
      "id": "2021b7cd",
      "metadata": {
        "id": "2021b7cd"
      },
      "source": [
        "---"
      ]
    },
    {
      "cell_type": "markdown",
      "id": "be1bf346",
      "metadata": {
        "id": "be1bf346"
      },
      "source": [
        "## 🟥 Print Job Titles Containing 'Data' (1.13.5)"
      ]
    },
    {
      "cell_type": "code",
      "execution_count": 21,
      "id": "c71d29c9",
      "metadata": {
        "id": "c71d29c9",
        "outputId": "cbcb8f98-07b2-4962-d96d-5dec5ca35ea3",
        "colab": {
          "base_uri": "https://localhost:8080/"
        }
      },
      "outputs": [
        {
          "output_type": "stream",
          "name": "stdout",
          "text": [
            "The role of Data Scientist, requires proficiency in Python.\n",
            "The role of Data Scientist, requires proficiency in R.\n",
            "The role of Data Analyst, requires proficiency in SQL.\n",
            "The role of Data Analyst, requires proficiency in Excel.\n",
            "The role of Machine Learning Engineer, requires proficiency in Python.\n",
            "The role of Machine Learning Engineer, requires proficiency in TensorFlow.\n"
          ]
        }
      ],
      "source": [
        "# Code Needed\n",
        "positions_skills = {\n",
        "    'Data Scientist': ['Python', 'R'],\n",
        "    'Data Analyst': ['SQL', 'Excel'],\n",
        "    'Machine Learning Engineer': ['Python', 'TensorFlow']\n",
        "}\n",
        "\n",
        "for position, skills in positions_skills.items():\n",
        "    for skill in skills:\n",
        "        print(f'The role of {position}, requires proficiency in {skill}.')\n"
      ]
    },
    {
      "cell_type": "markdown",
      "id": "11af0530",
      "metadata": {
        "id": "11af0530"
      },
      "source": [
        "---"
      ]
    }
  ],
  "metadata": {
    "colab": {
      "provenance": [],
      "include_colab_link": true
    },
    "language_info": {
      "name": "python"
    },
    "kernelspec": {
      "name": "python3",
      "display_name": "Python 3"
    }
  },
  "nbformat": 4,
  "nbformat_minor": 5
}
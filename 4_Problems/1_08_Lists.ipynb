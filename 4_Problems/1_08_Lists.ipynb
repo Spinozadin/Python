{
  "cells": [
    {
      "cell_type": "markdown",
      "id": "1324a683",
      "metadata": {
        "id": "1324a683"
      },
      "source": [
        "<a target=\"_blank\" href=\"https://colab.research.google.com/github/lukebarousse/Python_Data_Analytics_Course/blob/main/4_Problems/1_08_Lists.ipynb\">\n",
        "  <img src=\"https://colab.research.google.com/assets/colab-badge.svg\" alt=\"Open In Colab\"/>\n",
        "</a>"
      ]
    },
    {
      "cell_type": "markdown",
      "id": "1838d998",
      "metadata": {
        "id": "1838d998"
      },
      "source": [
        "## 🟩 Access Second Job Title (1.8.1)"
      ]
    },
    {
      "cell_type": "code",
      "execution_count": 4,
      "id": "1985369d",
      "metadata": {
        "colab": {
          "base_uri": "https://localhost:8080/",
          "height": 36
        },
        "id": "1985369d",
        "outputId": "ab45cc6c-8b85-4811-f6e8-d01fb726a01d"
      },
      "outputs": [
        {
          "output_type": "execute_result",
          "data": {
            "text/plain": [
              "'Data Analyst'"
            ],
            "application/vnd.google.colaboratory.intrinsic+json": {
              "type": "string"
            }
          },
          "metadata": {},
          "execution_count": 4
        }
      ],
      "source": [
        "# Code Needed\n",
        "job_titles = ['Data Scientist', 'Data Analyst', 'Machine Learning Engineer']\n",
        "job_titles[1]"
      ]
    },
    {
      "cell_type": "markdown",
      "id": "51c4691d",
      "metadata": {
        "id": "51c4691d"
      },
      "source": [
        "---"
      ]
    },
    {
      "cell_type": "markdown",
      "id": "845d3703",
      "metadata": {
        "id": "845d3703"
      },
      "source": [
        "## 🟩 Change Third Job Title (1.8.2)"
      ]
    },
    {
      "cell_type": "code",
      "execution_count": 12,
      "id": "ec22c646",
      "metadata": {
        "colab": {
          "base_uri": "https://localhost:8080/"
        },
        "id": "ec22c646",
        "outputId": "1a354daf-ee5f-46e8-b9f3-aa6e864087b8"
      },
      "outputs": [
        {
          "output_type": "stream",
          "name": "stdout",
          "text": [
            "['Data Scientist', 'Data Analyst', 'AI Specialist']\n"
          ]
        }
      ],
      "source": [
        "# Code Needed\n",
        "job_titles = ['Data Scientist', 'Data Analyst', 'Machine Learning Engineer']\n",
        "\n",
        "# simple\n",
        "\n",
        "job_titles = ['Data Scientist', 'Data Analyst', 'Machine Learning Engineer']\n",
        "job_titles[2] = 'AI Specialist'\n",
        "print(job_titles)\n",
        "\n",
        "# tfl\n",
        "\n",
        "job_titles.pop(2)\n",
        "\n",
        "job_titles.append('AI Specialist')\n",
        "print(job_titles)"
      ]
    },
    {
      "cell_type": "markdown",
      "id": "f0432a95",
      "metadata": {
        "id": "f0432a95"
      },
      "source": [
        "---"
      ]
    },
    {
      "cell_type": "markdown",
      "id": "03761a20",
      "metadata": {
        "id": "03761a20"
      },
      "source": [
        "## 🟩 Slice Job Titles List (1.8.3)"
      ]
    },
    {
      "cell_type": "code",
      "execution_count": 21,
      "id": "6e2440ca",
      "metadata": {
        "colab": {
          "base_uri": "https://localhost:8080/"
        },
        "id": "6e2440ca",
        "outputId": "918b862e-6aba-422e-c52b-b73161717562"
      },
      "outputs": [
        {
          "output_type": "stream",
          "name": "stdout",
          "text": [
            "['Data Scientist', 'Data Analyst']\n"
          ]
        }
      ],
      "source": [
        "# Code Needed\n",
        "job_titles = ['Data Scientist', 'Data Analyst', 'Machine Learning Engineer', 'Data Engineer']\n",
        "print(job_titles[:2])\n"
      ]
    },
    {
      "cell_type": "markdown",
      "id": "574cb0d1",
      "metadata": {
        "id": "574cb0d1"
      },
      "source": [
        "---"
      ]
    },
    {
      "cell_type": "markdown",
      "id": "251109f7",
      "metadata": {
        "id": "251109f7"
      },
      "source": [
        "## 🟨 Append Job Title (1.8.4)"
      ]
    },
    {
      "cell_type": "code",
      "execution_count": 24,
      "id": "fa121574",
      "metadata": {
        "colab": {
          "base_uri": "https://localhost:8080/"
        },
        "id": "fa121574",
        "outputId": "cabb4836-08d8-4390-c2e9-d9b2be416ee1"
      },
      "outputs": [
        {
          "output_type": "stream",
          "name": "stdout",
          "text": [
            "['Data Scientist', 'Data Analyst', 'Machine Learning Engineer', 'Data Engineer']\n"
          ]
        }
      ],
      "source": [
        "# Code Needed\n",
        "job_titles = ['Data Scientist', 'Data Analyst', 'Machine Learning Engineer']\n",
        "job_titles.append('Data Engineer')\n",
        "print(job_titles)"
      ]
    },
    {
      "cell_type": "markdown",
      "id": "af25c586",
      "metadata": {
        "id": "af25c586"
      },
      "source": [
        "---"
      ]
    },
    {
      "cell_type": "markdown",
      "id": "e5b2814d",
      "metadata": {
        "id": "e5b2814d"
      },
      "source": [
        "## 🟨 Insert Job Title (1.8.5)"
      ]
    },
    {
      "cell_type": "code",
      "execution_count": 39,
      "id": "82ac8332",
      "metadata": {
        "colab": {
          "base_uri": "https://localhost:8080/"
        },
        "id": "82ac8332",
        "outputId": "a21d6d62-9bf9-47c2-a406-2fd8fa2f5ee5"
      },
      "outputs": [
        {
          "output_type": "stream",
          "name": "stdout",
          "text": [
            "['Data Scientist', 'Data Analyst', 'Machine Learning Engineer']\n",
            "['Data Scientist', 'Business analyst', 'Data Analyst', 'Machine Learning Engineer']\n"
          ]
        }
      ],
      "source": [
        "# Code Needed\n",
        "job_titles = ['Data Scientist', 'Data Analyst', 'Machine Learning Engineer']\n",
        "print(job_titles)\n",
        "\n",
        "job_titles.insert(1, 'Business analyst')\n",
        "\n",
        "print(job_titles)"
      ]
    },
    {
      "cell_type": "markdown",
      "id": "5c04345c",
      "metadata": {
        "id": "5c04345c"
      },
      "source": [
        "---"
      ]
    }
  ],
  "metadata": {
    "colab": {
      "provenance": []
    },
    "language_info": {
      "name": "python"
    },
    "kernelspec": {
      "name": "python3",
      "display_name": "Python 3"
    }
  },
  "nbformat": 4,
  "nbformat_minor": 5
}
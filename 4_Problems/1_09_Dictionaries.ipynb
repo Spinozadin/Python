{
  "cells": [
    {
      "cell_type": "markdown",
      "id": "a0409ef1",
      "metadata": {
        "id": "a0409ef1"
      },
      "source": [
        "<a target=\"_blank\" href=\"https://colab.research.google.com/github/lukebarousse/Python_Data_Analytics_Course/blob/main/4_Problems/1_09_Dictionaries.ipynb\">\n",
        "  <img src=\"https://colab.research.google.com/assets/colab-badge.svg\" alt=\"Open In Colab\"/>\n",
        "</a>"
      ]
    },
    {
      "cell_type": "markdown",
      "id": "e9170a0a",
      "metadata": {
        "id": "e9170a0a"
      },
      "source": [
        "## 🟩 Access Job Postings (1.9.1)"
      ]
    },
    {
      "cell_type": "code",
      "source": [],
      "metadata": {
        "id": "9mYRds1-emlX"
      },
      "id": "9mYRds1-emlX",
      "execution_count": null,
      "outputs": []
    },
    {
      "cell_type": "code",
      "execution_count": 12,
      "id": "c94b145c",
      "metadata": {
        "id": "c94b145c",
        "outputId": "bda8c40a-9265-4639-f265-166d1d42146b",
        "colab": {
          "base_uri": "https://localhost:8080/"
        }
      },
      "outputs": [
        {
          "output_type": "stream",
          "name": "stdout",
          "text": [
            "80\n"
          ]
        }
      ],
      "source": [
        "# Code Needed\n",
        "job_postings = {'Data Scientist': 120, 'Data Analyst': 80, 'Machine Learning Engineer': 50}\n",
        "\n",
        "print(job_postings['Data Analyst'])\n"
      ]
    },
    {
      "cell_type": "markdown",
      "id": "6206eea6",
      "metadata": {
        "id": "6206eea6"
      },
      "source": [
        "---"
      ]
    },
    {
      "cell_type": "markdown",
      "id": "9a967eb2",
      "metadata": {
        "id": "9a967eb2"
      },
      "source": [
        "## 🟩 Add Job Role (1.9.2)"
      ]
    },
    {
      "cell_type": "code",
      "execution_count": 15,
      "id": "e142f46f",
      "metadata": {
        "id": "e142f46f",
        "outputId": "1e6776d6-60e5-4578-8d1c-c215019ca464",
        "colab": {
          "base_uri": "https://localhost:8080/"
        }
      },
      "outputs": [
        {
          "output_type": "stream",
          "name": "stdout",
          "text": [
            "{'Data Scientist': 120, 'Data Analyst': 80, 'Machine Learning Engineer': 50, 'AI Specialist': 30}\n"
          ]
        }
      ],
      "source": [
        "# Code Needed\n",
        "job_postings = {'Data Scientist': 120, 'Data Analyst': 80, 'Machine Learning Engineer': 50}\n",
        "\n",
        "job_postings['AI Specialist'] = 30\n",
        "print(job_postings)"
      ]
    },
    {
      "cell_type": "markdown",
      "id": "9d1a27ec",
      "metadata": {
        "id": "9d1a27ec"
      },
      "source": [
        "## 🟨 Remove Job Role (1.9.3)"
      ]
    },
    {
      "cell_type": "code",
      "execution_count": 20,
      "id": "3e97c9cc",
      "metadata": {
        "id": "3e97c9cc",
        "outputId": "822d6e9f-d04c-495f-f943-97b66f1c55f0",
        "colab": {
          "base_uri": "https://localhost:8080/"
        }
      },
      "outputs": [
        {
          "output_type": "stream",
          "name": "stdout",
          "text": [
            "{'Data Scientist': 120, 'Data Analyst': 80}\n"
          ]
        }
      ],
      "source": [
        "# Code Needed\n",
        "job_postings = {'Data Scientist': 120, 'Data Analyst': 80, 'Machine Learning Engineer': 50}\n",
        "\n",
        "job_postings.pop('Machine Learning Engineer')\n",
        "print(job_postings)"
      ]
    },
    {
      "cell_type": "markdown",
      "id": "4e805b06",
      "metadata": {
        "id": "4e805b06"
      },
      "source": [
        "---"
      ]
    },
    {
      "cell_type": "markdown",
      "id": "bb334124",
      "metadata": {
        "id": "bb334124"
      },
      "source": [
        "## 🟨 Merge Dictionaries (1.9.4)"
      ]
    },
    {
      "cell_type": "code",
      "execution_count": 26,
      "id": "d2fd3ae2",
      "metadata": {
        "id": "d2fd3ae2"
      },
      "outputs": [],
      "source": [
        "# Code Needed\n",
        "job_postings1 = {'Data Scientist': 120, 'Data Analyst': 80}\n",
        "job_postings2 = {'Machine Learning Engineer': 50, 'AI Specialist': 30}\n",
        "job_postings1.update(job_postings2)"
      ]
    },
    {
      "cell_type": "code",
      "source": [
        "help(dict)"
      ],
      "metadata": {
        "id": "milciFvtgShm",
        "outputId": "28843a37-ebdc-4927-c62a-dd4ef7ff0c02",
        "colab": {
          "base_uri": "https://localhost:8080/"
        }
      },
      "id": "milciFvtgShm",
      "execution_count": 22,
      "outputs": [
        {
          "output_type": "stream",
          "name": "stdout",
          "text": [
            "Help on class dict in module builtins:\n",
            "\n",
            "class dict(object)\n",
            " |  dict() -> new empty dictionary\n",
            " |  dict(mapping) -> new dictionary initialized from a mapping object's\n",
            " |      (key, value) pairs\n",
            " |  dict(iterable) -> new dictionary initialized as if via:\n",
            " |      d = {}\n",
            " |      for k, v in iterable:\n",
            " |          d[k] = v\n",
            " |  dict(**kwargs) -> new dictionary initialized with the name=value pairs\n",
            " |      in the keyword argument list.  For example:  dict(one=1, two=2)\n",
            " |  \n",
            " |  Built-in subclasses:\n",
            " |      StgDict\n",
            " |  \n",
            " |  Methods defined here:\n",
            " |  \n",
            " |  __contains__(self, key, /)\n",
            " |      True if the dictionary has the specified key, else False.\n",
            " |  \n",
            " |  __delitem__(self, key, /)\n",
            " |      Delete self[key].\n",
            " |  \n",
            " |  __eq__(self, value, /)\n",
            " |      Return self==value.\n",
            " |  \n",
            " |  __ge__(self, value, /)\n",
            " |      Return self>=value.\n",
            " |  \n",
            " |  __getattribute__(self, name, /)\n",
            " |      Return getattr(self, name).\n",
            " |  \n",
            " |  __getitem__(...)\n",
            " |      x.__getitem__(y) <==> x[y]\n",
            " |  \n",
            " |  __gt__(self, value, /)\n",
            " |      Return self>value.\n",
            " |  \n",
            " |  __init__(self, /, *args, **kwargs)\n",
            " |      Initialize self.  See help(type(self)) for accurate signature.\n",
            " |  \n",
            " |  __ior__(self, value, /)\n",
            " |      Return self|=value.\n",
            " |  \n",
            " |  __iter__(self, /)\n",
            " |      Implement iter(self).\n",
            " |  \n",
            " |  __le__(self, value, /)\n",
            " |      Return self<=value.\n",
            " |  \n",
            " |  __len__(self, /)\n",
            " |      Return len(self).\n",
            " |  \n",
            " |  __lt__(self, value, /)\n",
            " |      Return self<value.\n",
            " |  \n",
            " |  __ne__(self, value, /)\n",
            " |      Return self!=value.\n",
            " |  \n",
            " |  __or__(self, value, /)\n",
            " |      Return self|value.\n",
            " |  \n",
            " |  __repr__(self, /)\n",
            " |      Return repr(self).\n",
            " |  \n",
            " |  __reversed__(self, /)\n",
            " |      Return a reverse iterator over the dict keys.\n",
            " |  \n",
            " |  __ror__(self, value, /)\n",
            " |      Return value|self.\n",
            " |  \n",
            " |  __setitem__(self, key, value, /)\n",
            " |      Set self[key] to value.\n",
            " |  \n",
            " |  __sizeof__(...)\n",
            " |      D.__sizeof__() -> size of D in memory, in bytes\n",
            " |  \n",
            " |  clear(...)\n",
            " |      D.clear() -> None.  Remove all items from D.\n",
            " |  \n",
            " |  copy(...)\n",
            " |      D.copy() -> a shallow copy of D\n",
            " |  \n",
            " |  get(self, key, default=None, /)\n",
            " |      Return the value for key if key is in the dictionary, else default.\n",
            " |  \n",
            " |  items(...)\n",
            " |      D.items() -> a set-like object providing a view on D's items\n",
            " |  \n",
            " |  keys(...)\n",
            " |      D.keys() -> a set-like object providing a view on D's keys\n",
            " |  \n",
            " |  pop(...)\n",
            " |      D.pop(k[,d]) -> v, remove specified key and return the corresponding value.\n",
            " |      \n",
            " |      If the key is not found, return the default if given; otherwise,\n",
            " |      raise a KeyError.\n",
            " |  \n",
            " |  popitem(self, /)\n",
            " |      Remove and return a (key, value) pair as a 2-tuple.\n",
            " |      \n",
            " |      Pairs are returned in LIFO (last-in, first-out) order.\n",
            " |      Raises KeyError if the dict is empty.\n",
            " |  \n",
            " |  setdefault(self, key, default=None, /)\n",
            " |      Insert key with a value of default if key is not in the dictionary.\n",
            " |      \n",
            " |      Return the value for key if key is in the dictionary, else default.\n",
            " |  \n",
            " |  update(...)\n",
            " |      D.update([E, ]**F) -> None.  Update D from dict/iterable E and F.\n",
            " |      If E is present and has a .keys() method, then does:  for k in E: D[k] = E[k]\n",
            " |      If E is present and lacks a .keys() method, then does:  for k, v in E: D[k] = v\n",
            " |      In either case, this is followed by: for k in F:  D[k] = F[k]\n",
            " |  \n",
            " |  values(...)\n",
            " |      D.values() -> an object providing a view on D's values\n",
            " |  \n",
            " |  ----------------------------------------------------------------------\n",
            " |  Class methods defined here:\n",
            " |  \n",
            " |  __class_getitem__(...) from builtins.type\n",
            " |      See PEP 585\n",
            " |  \n",
            " |  fromkeys(iterable, value=None, /) from builtins.type\n",
            " |      Create a new dictionary with keys from iterable and values set to value.\n",
            " |  \n",
            " |  ----------------------------------------------------------------------\n",
            " |  Static methods defined here:\n",
            " |  \n",
            " |  __new__(*args, **kwargs) from builtins.type\n",
            " |      Create and return a new object.  See help(type) for accurate signature.\n",
            " |  \n",
            " |  ----------------------------------------------------------------------\n",
            " |  Data and other attributes defined here:\n",
            " |  \n",
            " |  __hash__ = None\n",
            "\n"
          ]
        }
      ]
    },
    {
      "cell_type": "markdown",
      "id": "b61f7b57",
      "metadata": {
        "id": "b61f7b57"
      },
      "source": [
        "---"
      ]
    },
    {
      "cell_type": "markdown",
      "id": "791a349d",
      "metadata": {
        "id": "791a349d"
      },
      "source": [
        "## 🟥 Create Nested Dictionary (1.9.5)"
      ]
    },
    {
      "cell_type": "code",
      "execution_count": 30,
      "id": "b5acf180",
      "metadata": {
        "id": "b5acf180",
        "outputId": "4daff343-f126-40ee-f8a2-a7aceb8a5a38",
        "colab": {
          "base_uri": "https://localhost:8080/"
        }
      },
      "outputs": [
        {
          "output_type": "stream",
          "name": "stdout",
          "text": [
            "{'Data Scientist': {'postings': 120, 'average_salary': 120000}, 'Data Analyst': {'postings': 80, 'average_salary': 80000}, 'Machine Learning Engineer': {'postings': 50, 'average_salary': 110000}}\n"
          ]
        }
      ],
      "source": [
        "job_details = {\n",
        "    'Data Scientist': {'postings': 120, 'average_salary': 120000},\n",
        "    'Data Analyst': {'postings': 80, 'average_salary': 80000},\n",
        "    'Machine Learning Engineer': {'postings': 50, 'average_salary': 110000}\n",
        "}\n",
        "print(job_details)"
      ]
    },
    {
      "cell_type": "markdown",
      "id": "30d9f6d7",
      "metadata": {
        "id": "30d9f6d7"
      },
      "source": [
        "---"
      ]
    }
  ],
  "metadata": {
    "colab": {
      "provenance": []
    },
    "language_info": {
      "name": "python"
    },
    "kernelspec": {
      "name": "python3",
      "display_name": "Python 3"
    }
  },
  "nbformat": 4,
  "nbformat_minor": 5
}
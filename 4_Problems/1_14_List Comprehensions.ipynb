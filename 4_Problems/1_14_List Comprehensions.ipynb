{
  "cells": [
    {
      "cell_type": "markdown",
      "id": "d867f31c",
      "metadata": {
        "id": "d867f31c"
      },
      "source": [
        "<a target=\"_blank\" href=\"https://colab.research.google.com/github/lukebarousse/Python_Data_Analytics_Course/blob/main/4_Problems/1_14_List Comprehensions.ipynb\">\n",
        "  <img src=\"https://colab.research.google.com/assets/colab-badge.svg\" alt=\"Open In Colab\"/>\n",
        "</a>"
      ]
    },
    {
      "cell_type": "markdown",
      "id": "9fbee277",
      "metadata": {
        "id": "9fbee277"
      },
      "source": [
        "## 🟩 Convert Salaries to EUR (1.14.1)"
      ]
    },
    {
      "cell_type": "code",
      "execution_count": 6,
      "id": "9bf35e2c",
      "metadata": {
        "colab": {
          "base_uri": "https://localhost:8080/"
        },
        "id": "9bf35e2c",
        "outputId": "5b9162d0-bed6-46c3-862c-0ccd0db8263c"
      },
      "outputs": [
        {
          "output_type": "stream",
          "name": "stdout",
          "text": [
            "[85000.0, 102000.0, 68000.0, 76500.0]\n"
          ]
        }
      ],
      "source": [
        "# Code Needed\n",
        "salaries_usd = [100000, 120000, 80000, 90000]\n",
        "\n",
        "salaries_euro = [(.85*x) for x in salaries_usd]\n",
        "print(salaries_euro)\n",
        "\n",
        "# Neater version:\n",
        "salaries_usd = [100000, 120000, 80000, 90000]\n",
        "salaries_eur = [salary * 0.85 for salary in salaries_usd]\n",
        "print(salaries_eur)"
      ]
    },
    {
      "cell_type": "markdown",
      "id": "b39ae7d7",
      "metadata": {
        "id": "b39ae7d7"
      },
      "source": [
        "---"
      ]
    },
    {
      "cell_type": "markdown",
      "id": "9f4449d5",
      "metadata": {
        "id": "9f4449d5"
      },
      "source": [
        "## 🟨 Create List of Data Jobs (1.14.2)"
      ]
    },
    {
      "cell_type": "code",
      "execution_count": 21,
      "id": "9bbcdc8f",
      "metadata": {
        "colab": {
          "base_uri": "https://localhost:8080/"
        },
        "id": "9bbcdc8f",
        "outputId": "61c2f1e2-ba39-4bbc-cadf-d414fa02f4dd"
      },
      "outputs": [
        {
          "output_type": "stream",
          "name": "stdout",
          "text": [
            "['Data Scientist', 'Machine Learning Specialist']\n"
          ]
        }
      ],
      "source": [
        "# Code Needed\n",
        "job_experience = {'Data Scientist': 3, 'Data Analyst': 1, 'Machine Learning Specialist': 4, 'Data Engineer': 2}\n",
        "\n",
        "experienced_jobs = [job for job, exp in job_experience.items() if exp > 2]\n",
        "print(experienced_jobs)"
      ]
    },
    {
      "cell_type": "markdown",
      "id": "7df2d173",
      "metadata": {
        "id": "7df2d173"
      },
      "source": [
        "---"
      ]
    },
    {
      "cell_type": "markdown",
      "id": "1e81b0cb",
      "metadata": {
        "id": "1e81b0cb"
      },
      "source": [
        "## 🟥 Extract High Salary Jobs (1.14.3)"
      ]
    },
    {
      "cell_type": "code",
      "execution_count": 27,
      "id": "c3d8887b",
      "metadata": {
        "colab": {
          "base_uri": "https://localhost:8080/"
        },
        "id": "c3d8887b",
        "outputId": "d1dd2a66-d91c-444e-a25a-64c050276eea"
      },
      "outputs": [
        {
          "output_type": "stream",
          "name": "stdout",
          "text": [
            "['Data Scientist', 'Data Analyst']\n"
          ]
        }
      ],
      "source": [
        "# Code Needed\n",
        "job_salary_dicts = [{'job_title': 'Data Scientist', 'salary': 100000}, {'job_title': 'Data Analyst', 'salary': 120000}, {'job_title': 'Data Engineer', 'salary': 80000}, {'job_title': 'Machine Learning Engineer', 'salary': 90000}]\n",
        "high_salary_jobs = [job['job_title'] for job in job_salary_dicts if job['salary'] > 90000]\n",
        "print(high_salary_jobs)\n",
        "\n"
      ]
    },
    {
      "cell_type": "markdown",
      "id": "fb79abd5",
      "metadata": {
        "id": "fb79abd5"
      },
      "source": [
        "---"
      ]
    }
  ],
  "metadata": {
    "colab": {
      "provenance": []
    },
    "language_info": {
      "name": "python"
    },
    "kernelspec": {
      "name": "python3",
      "display_name": "Python 3"
    }
  },
  "nbformat": 4,
  "nbformat_minor": 5
}
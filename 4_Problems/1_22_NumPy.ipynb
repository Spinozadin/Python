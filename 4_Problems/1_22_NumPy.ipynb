{
  "cells": [
    {
      "cell_type": "markdown",
      "id": "9135219d",
      "metadata": {
        "id": "9135219d"
      },
      "source": [
        "<a target=\"_blank\" href=\"https://colab.research.google.com/github/lukebarousse/Python_Data_Analytics_Course/blob/main/4_Problems/1_22_NumPy.ipynb\">\n",
        "  <img src=\"https://colab.research.google.com/assets/colab-badge.svg\" alt=\"Open In Colab\"/>\n",
        "</a>"
      ]
    },
    {
      "cell_type": "markdown",
      "id": "bc778d7f",
      "metadata": {
        "id": "bc778d7f"
      },
      "source": [
        "## 🟩 Create NumPy Array (1.22.1)"
      ]
    },
    {
      "cell_type": "code",
      "execution_count": 4,
      "id": "3b7e6275",
      "metadata": {
        "id": "3b7e6275",
        "outputId": "b8804ba8-b13e-42bb-bde9-cf331fe818b9",
        "colab": {
          "base_uri": "https://localhost:8080/"
        }
      },
      "outputs": [
        {
          "output_type": "stream",
          "name": "stdout",
          "text": [
            "[10 15  7 20 25 30  5]\n"
          ]
        }
      ],
      "source": [
        "# Code Needed\n",
        "applications_list = [10, 15, 7, 20, 25, 30, 5]\n",
        "\n",
        "import numpy as np\n",
        "\n",
        "applications = np.array(applications_list)\n",
        "\n",
        "print(applications)"
      ]
    },
    {
      "cell_type": "markdown",
      "id": "e3e3b88b",
      "metadata": {
        "id": "e3e3b88b"
      },
      "source": [
        "---"
      ]
    },
    {
      "cell_type": "markdown",
      "id": "4b3869b5",
      "metadata": {
        "id": "4b3869b5"
      },
      "source": [
        "## 🟩 Slicing Array (1.22.2)"
      ]
    },
    {
      "cell_type": "code",
      "execution_count": 11,
      "id": "a3f8f040",
      "metadata": {
        "id": "a3f8f040",
        "outputId": "64c27c49-dd15-471f-cf4f-46953a3e719c",
        "colab": {
          "base_uri": "https://localhost:8080/"
        }
      },
      "outputs": [
        {
          "output_type": "execute_result",
          "data": {
            "text/plain": [
              "list[[10, 15, 7]]"
            ]
          },
          "metadata": {},
          "execution_count": 11
        }
      ],
      "source": [
        "# Code Needed\n",
        "postings_list = [10, 15, 7, 20, 25, 30, 5]\n",
        "\n",
        "\n",
        "import numpy as np\n",
        "\n",
        "postings = np.array(postings_list)\n",
        "\n",
        "list[postings_list[0:3]]\n",
        "\n",
        "\n",
        "\n"
      ]
    },
    {
      "cell_type": "code",
      "source": [
        "# or use:\n",
        "import numpy as np\n",
        "postings_list = [10, 15, 7, 20, 25, 30, 5]\n",
        "postings = np.array(postings_list)\n",
        "first_three_postings = postings[:3]\n",
        "print(first_three_postings)"
      ],
      "metadata": {
        "id": "yezjUewMX34M",
        "outputId": "acf844cb-189c-4e7f-f3ed-2d599f91927c",
        "colab": {
          "base_uri": "https://localhost:8080/"
        }
      },
      "id": "yezjUewMX34M",
      "execution_count": 12,
      "outputs": [
        {
          "output_type": "stream",
          "name": "stdout",
          "text": [
            "[10 15  7]\n"
          ]
        }
      ]
    },
    {
      "cell_type": "markdown",
      "id": "45a7a58a",
      "metadata": {
        "id": "45a7a58a"
      },
      "source": [
        "---"
      ]
    },
    {
      "cell_type": "markdown",
      "id": "7b1ebbe9",
      "metadata": {
        "id": "7b1ebbe9"
      },
      "source": [
        "## 🟨 Highest and Lowest Salary (1.22.3)"
      ]
    },
    {
      "cell_type": "code",
      "execution_count": 19,
      "id": "b62f9aed",
      "metadata": {
        "id": "b62f9aed",
        "outputId": "370e019b-b9d2-4816-eb11-7dc5df908acf",
        "colab": {
          "base_uri": "https://localhost:8080/"
        }
      },
      "outputs": [
        {
          "output_type": "stream",
          "name": "stdout",
          "text": [
            "95000 60000\n"
          ]
        }
      ],
      "source": [
        "# Code Needed\n",
        "salaries_list = [70000, 85000, 60000, 95000, 80000]\n",
        "\n",
        "import numpy as np\n",
        "\n",
        "salaries = np.array(salaries_list)\n",
        "\n",
        "max_salary = max(salaries)\n",
        "min_salary = min(salaries)\n",
        "\n",
        "print(max_salary, min_salary)"
      ]
    },
    {
      "cell_type": "code",
      "source": [
        "# Or use:\n",
        "\n",
        "import numpy as np\n",
        "salaries_list = [70000, 85000, 60000, 95000, 80000]\n",
        "salaries = np.array(salaries_list)\n",
        "highest_salary = np.max(salaries)\n",
        "lowest_salary = np.min(salaries)\n",
        "print(highest_salary, lowest_salary)"
      ],
      "metadata": {
        "id": "D73M5jcZYvRf",
        "outputId": "ff4b5515-4739-4a78-ae64-3cdea87d8e1c",
        "colab": {
          "base_uri": "https://localhost:8080/"
        }
      },
      "id": "D73M5jcZYvRf",
      "execution_count": 22,
      "outputs": [
        {
          "output_type": "stream",
          "name": "stdout",
          "text": [
            "95000 60000\n"
          ]
        }
      ]
    },
    {
      "cell_type": "markdown",
      "id": "65bf8796",
      "metadata": {
        "id": "65bf8796"
      },
      "source": [
        "---"
      ]
    }
  ],
  "metadata": {
    "language_info": {
      "name": "python"
    },
    "colab": {
      "provenance": []
    },
    "kernelspec": {
      "name": "python3",
      "display_name": "Python 3"
    }
  },
  "nbformat": 4,
  "nbformat_minor": 5
}
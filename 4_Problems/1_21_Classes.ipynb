{
  "cells": [
    {
      "cell_type": "markdown",
      "id": "18a8d444",
      "metadata": {
        "id": "18a8d444"
      },
      "source": [
        "<a target=\"_blank\" href=\"https://colab.research.google.com/github/lukebarousse/Python_Data_Analytics_Course/blob/main/4_Problems/1_21_Classes.ipynb\">\n",
        "  <img src=\"https://colab.research.google.com/assets/colab-badge.svg\" alt=\"Open In Colab\"/>\n",
        "</a>"
      ]
    },
    {
      "cell_type": "markdown",
      "id": "edc8a40a",
      "metadata": {
        "id": "edc8a40a"
      },
      "source": [
        "## 🟩 Create JobPosting Class (1.21.1)"
      ]
    },
    {
      "cell_type": "code",
      "execution_count": 11,
      "id": "26bdb6dc",
      "metadata": {
        "id": "26bdb6dc"
      },
      "outputs": [],
      "source": [
        "# Create the JobPostings class in this code cell\n",
        "class JobPosting:\n",
        "    def __init__(self, title, company, location):\n",
        "        self.title = title\n",
        "        self.company = company\n",
        "        self.location = location\n"
      ]
    },
    {
      "cell_type": "code",
      "execution_count": 12,
      "id": "2461f7a5",
      "metadata": {
        "id": "2461f7a5"
      },
      "outputs": [],
      "source": [
        "# Code Needed\n",
        "job = JobPosting('Data Scientist', 'Tech Innovations', 'New York')"
      ]
    },
    {
      "cell_type": "markdown",
      "id": "98b6caff",
      "metadata": {
        "id": "98b6caff"
      },
      "source": [
        "---"
      ]
    },
    {
      "cell_type": "markdown",
      "id": "b152b78d",
      "metadata": {
        "id": "b152b78d"
      },
      "source": [
        "## 🟨 Convert to Dictionary (1.21.2)"
      ]
    },
    {
      "cell_type": "code",
      "execution_count": 26,
      "id": "82b617cd",
      "metadata": {
        "id": "82b617cd"
      },
      "outputs": [],
      "source": [
        "# Create the JobPostings class in this code cell\n",
        "class JobPosting:\n",
        "    def __init__(self, title, company, location, salary):\n",
        "        self.title = title\n",
        "        self.company = company\n",
        "        self.location = location\n",
        "        self.salary = salary\n",
        "\n",
        "    def to_dict(self):\n",
        "      return {\n",
        "        'title': self.title,\n",
        "        'company': self.company,\n",
        "        'location': self.location,\n",
        "        'salary': self.salary\n",
        "        }\n",
        ""
      ]
    },
    {
      "cell_type": "code",
      "source": [
        "job = JobPosting('Data Scientist', 'Tech Innovations', 'New York', 120000)\n",
        "\n",
        "print(job.to_dict())"
      ],
      "metadata": {
        "id": "CNy6j1YS5BVt",
        "outputId": "1da25679-fcf7-4ac5-ddf8-1902dd0bf8d4",
        "colab": {
          "base_uri": "https://localhost:8080/"
        }
      },
      "id": "CNy6j1YS5BVt",
      "execution_count": 29,
      "outputs": [
        {
          "output_type": "stream",
          "name": "stdout",
          "text": [
            "{'title': 'Data Scientist', 'company': 'Tech Innovations', 'location': 'New York', 'salary': 120000}\n"
          ]
        }
      ]
    },
    {
      "cell_type": "code",
      "execution_count": 27,
      "id": "d1bc613a",
      "metadata": {
        "id": "d1bc613a"
      },
      "outputs": [],
      "source": [
        "# Code Needed\n",
        "job = JobPosting('Data Scientist', 'Tech Innovations', 'New York', 120000)\n",
        "\n",
        "\n",
        "\n"
      ]
    },
    {
      "cell_type": "markdown",
      "id": "68c9b6ec",
      "metadata": {
        "id": "68c9b6ec"
      },
      "source": [
        "---"
      ]
    },
    {
      "cell_type": "markdown",
      "id": "65b80ffe",
      "metadata": {
        "id": "65b80ffe"
      },
      "source": [
        "## 🟥 Compare Job Salaries (1.21.3)"
      ]
    },
    {
      "cell_type": "code",
      "execution_count": 32,
      "id": "5d5cf1bd",
      "metadata": {
        "id": "5d5cf1bd"
      },
      "outputs": [],
      "source": [
        "# Create the JobPostings class in this code cell\n",
        "class JobPosting:\n",
        "    def __init__(self, title, company, location, salary):\n",
        "        self.title = title\n",
        "        self.company = company\n",
        "        self.location = location\n",
        "        self.salary = salary\n",
        "    def compare_salary(self, other_job):\n",
        "        if self.salary > other_job.salary:\n",
        "            return self.title\n",
        "        else:\n",
        "            return other_job.title\n"
      ]
    },
    {
      "cell_type": "code",
      "execution_count": 33,
      "id": "5a6b25e4",
      "metadata": {
        "id": "5a6b25e4"
      },
      "outputs": [],
      "source": [
        "# Code Needed\n",
        "job1 = JobPosting('Data Scientist', 'Tech Innovations', 'New York', 120000)\n",
        "job2 = JobPosting('Data Analyst', 'Data Driven Co', 'San Francisco', 100000)"
      ]
    },
    {
      "cell_type": "markdown",
      "id": "0f083bf1",
      "metadata": {
        "id": "0f083bf1"
      },
      "source": [
        "---"
      ]
    }
  ],
  "metadata": {
    "language_info": {
      "name": "python"
    },
    "colab": {
      "provenance": []
    },
    "kernelspec": {
      "name": "python3",
      "display_name": "Python 3"
    }
  },
  "nbformat": 4,
  "nbformat_minor": 5
}
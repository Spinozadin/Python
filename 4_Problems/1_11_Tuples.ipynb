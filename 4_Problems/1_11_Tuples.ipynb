{
  "cells": [
    {
      "cell_type": "markdown",
      "metadata": {
        "id": "view-in-github",
        "colab_type": "text"
      },
      "source": [
        "<a href=\"https://colab.research.google.com/github/Spinozadin/Python/blob/main/4_Problems/1_11_Tuples.ipynb\" target=\"_parent\"><img src=\"https://colab.research.google.com/assets/colab-badge.svg\" alt=\"Open In Colab\"/></a>"
      ]
    },
    {
      "cell_type": "markdown",
      "id": "20500a42",
      "metadata": {
        "id": "20500a42"
      },
      "source": [
        "<a target=\"_blank\" href=\"https://colab.research.google.com/github/lukebarousse/Python_Data_Analytics_Course/blob/main/4_Problems/1_11_Tuples.ipynb\">\n",
        "  <img src=\"https://colab.research.google.com/assets/colab-badge.svg\" alt=\"Open In Colab\"/>\n",
        "</a>"
      ]
    },
    {
      "cell_type": "markdown",
      "id": "5abdbe55",
      "metadata": {
        "id": "5abdbe55"
      },
      "source": [
        "## 🟩 Access Job Role (1.11.1)"
      ]
    },
    {
      "cell_type": "code",
      "execution_count": null,
      "id": "1d281195",
      "metadata": {
        "id": "1d281195",
        "outputId": "3f1b6848-075e-40d5-8102-97eead30d213",
        "colab": {
          "base_uri": "https://localhost:8080/"
        }
      },
      "outputs": [
        {
          "output_type": "stream",
          "name": "stdout",
          "text": [
            "Data Analyst\n"
          ]
        }
      ],
      "source": [
        "# Code Needed\n",
        "job_roles = ('Data Scientist', 'Data Analyst', 'Machine Learning Engineer')\n",
        "print(job_roles[1])"
      ]
    },
    {
      "cell_type": "markdown",
      "id": "55986731",
      "metadata": {
        "id": "55986731"
      },
      "source": [
        "---"
      ]
    },
    {
      "cell_type": "markdown",
      "id": "ff20fe2b",
      "metadata": {
        "id": "ff20fe2b"
      },
      "source": [
        "## 🟨 Add Job Role to Tuple (1.11.2)"
      ]
    },
    {
      "cell_type": "code",
      "execution_count": null,
      "id": "3c540847",
      "metadata": {
        "id": "3c540847"
      },
      "outputs": [],
      "source": [
        "# Code Needed\n",
        "job_roles = ('Data Scientist', 'Data Analyst', 'Machine Learning Engineer')\n",
        "\n",
        "extended_job_roles = job_roles + ('AI Specialist',)"
      ]
    },
    {
      "cell_type": "markdown",
      "id": "675ef461",
      "metadata": {
        "id": "675ef461"
      },
      "source": [
        "---"
      ]
    },
    {
      "cell_type": "markdown",
      "id": "790f26db",
      "metadata": {
        "id": "790f26db"
      },
      "source": [
        "## 🟨 Remove Job Role from Tuple (1.11.3)"
      ]
    },
    {
      "cell_type": "code",
      "execution_count": null,
      "id": "0b7cb7af",
      "metadata": {
        "id": "0b7cb7af"
      },
      "outputs": [],
      "source": [
        "# Code Needed\n",
        "job_roles = ('Data Scientist', 'Data Analyst', 'Machine Learning Engineer')\n",
        "job_roles_list = list(job_roles)\n",
        "job_roles_list.remove('Data Analyst')\n",
        "update_job_roles = tuple(job_roles_list)"
      ]
    },
    {
      "cell_type": "markdown",
      "id": "ffb135cd",
      "metadata": {
        "id": "ffb135cd"
      },
      "source": [
        "---"
      ]
    },
    {
      "cell_type": "markdown",
      "id": "62a6e18a",
      "metadata": {
        "id": "62a6e18a"
      },
      "source": [
        "## 🟨 Unpack Job Postings Tuple (1.11.4)"
      ]
    },
    {
      "cell_type": "code",
      "execution_count": 6,
      "id": "bb771d79",
      "metadata": {
        "id": "bb771d79",
        "outputId": "8a5a0564-d2a4-44f6-ab83-71e62342c951",
        "colab": {
          "base_uri": "https://localhost:8080/"
        }
      },
      "outputs": [
        {
          "output_type": "stream",
          "name": "stdout",
          "text": [
            "120\n"
          ]
        }
      ],
      "source": [
        "# Code Needed\n",
        "job_postings = (120, 80, 50)\n",
        "data_scientist_postings, data_analyst_postings, ml_engineer_postings = job_postings\n",
        "print(data_scientist_postings)"
      ]
    },
    {
      "cell_type": "markdown",
      "id": "ca603ef4",
      "metadata": {
        "id": "ca603ef4"
      },
      "source": [
        "---"
      ]
    },
    {
      "cell_type": "markdown",
      "id": "b0965dc7",
      "metadata": {
        "id": "b0965dc7"
      },
      "source": [
        "## 🟥 Extract Nested Value from Tuple (1.11.5)"
      ]
    },
    {
      "cell_type": "code",
      "execution_count": 13,
      "id": "704fad1b",
      "metadata": {
        "id": "704fad1b",
        "outputId": "37466cc7-7cc6-4a54-ca25-0ae715579ba3",
        "colab": {
          "base_uri": "https://localhost:8080/"
        }
      },
      "outputs": [
        {
          "output_type": "stream",
          "name": "stdout",
          "text": [
            "50\n"
          ]
        }
      ],
      "source": [
        "# Code Needed\n",
        "job_details = (('Data Scientist', 120), ('Data Analyst', 80), ('Machine Learning Engineer', 50))\n",
        "print(job_details[2][1])\n"
      ]
    },
    {
      "cell_type": "markdown",
      "id": "78683f7a",
      "metadata": {
        "id": "78683f7a"
      },
      "source": [
        "---"
      ]
    }
  ],
  "metadata": {
    "colab": {
      "provenance": [],
      "include_colab_link": true
    },
    "language_info": {
      "name": "python"
    },
    "kernelspec": {
      "name": "python3",
      "display_name": "Python 3"
    }
  },
  "nbformat": 4,
  "nbformat_minor": 5
}
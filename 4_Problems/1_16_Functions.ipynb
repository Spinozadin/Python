{
  "cells": [
    {
      "cell_type": "markdown",
      "metadata": {
        "id": "view-in-github",
        "colab_type": "text"
      },
      "source": [
        "<a href=\"https://colab.research.google.com/github/Spinozadin/Python/blob/main/4_Problems/1_16_Functions.ipynb\" target=\"_parent\"><img src=\"https://colab.research.google.com/assets/colab-badge.svg\" alt=\"Open In Colab\"/></a>"
      ]
    },
    {
      "cell_type": "markdown",
      "id": "47f7f9a6",
      "metadata": {
        "id": "47f7f9a6"
      },
      "source": [
        "<a target=\"_blank\" href=\"https://colab.research.google.com/github/lukebarousse/Python_Data_Analytics_Course/blob/main/4_Problems/1_16_Functions.ipynb\">\n",
        "  <img src=\"https://colab.research.google.com/assets/colab-badge.svg\" alt=\"Open In Colab\"/>\n",
        "</a>"
      ]
    },
    {
      "cell_type": "markdown",
      "id": "1db181cf",
      "metadata": {
        "id": "1db181cf"
      },
      "source": [
        "## 🟩 Job Title Contains (1.16.1)"
      ]
    },
    {
      "cell_type": "code",
      "execution_count": 4,
      "id": "740b79a1",
      "metadata": {
        "id": "740b79a1"
      },
      "outputs": [],
      "source": [
        "from typing_extensions import dataclass_transform\n",
        "# Code Needed\n",
        "job_title = 'Data Scientist'\n",
        "keyword = 'Data'\n",
        "\n",
        "def job_title_contains(job_title, keyword):\n",
        "  return keyword in job_title\n",
        ""
      ]
    },
    {
      "cell_type": "markdown",
      "id": "1732d805",
      "metadata": {
        "id": "1732d805"
      },
      "source": [
        "---"
      ]
    },
    {
      "cell_type": "markdown",
      "id": "14e34822",
      "metadata": {
        "id": "14e34822"
      },
      "source": [
        "## 🟩 Average Salary (1.16.2)"
      ]
    },
    {
      "cell_type": "code",
      "execution_count": 15,
      "id": "7662927c",
      "metadata": {
        "id": "7662927c",
        "outputId": "e6a91aa4-9f59-416a-b820-a5d5672abe1a",
        "colab": {
          "base_uri": "https://localhost:8080/"
        }
      },
      "outputs": [
        {
          "output_type": "execute_result",
          "data": {
            "text/plain": [
              "108000.0"
            ]
          },
          "metadata": {},
          "execution_count": 15
        }
      ],
      "source": [
        "# Code Needed\n",
        "salaries = [95000, 120000, 105000, 90000, 130000]\n",
        "\n",
        "def average_salary(salaries):\n",
        "  return sum(salaries) / len(salaries)\n",
        "\n",
        "average_salary(salaries)\n"
      ]
    },
    {
      "cell_type": "markdown",
      "id": "1e9a1c7b",
      "metadata": {
        "id": "1e9a1c7b"
      },
      "source": [
        "---"
      ]
    },
    {
      "cell_type": "markdown",
      "id": "21247fbc",
      "metadata": {
        "id": "21247fbc"
      },
      "source": [
        "## 🟨 Salary Statistics (1.16.3)"
      ]
    },
    {
      "cell_type": "code",
      "execution_count": 19,
      "id": "a1b6cf11",
      "metadata": {
        "id": "a1b6cf11",
        "outputId": "f77a99e7-479a-407b-908f-6d1f5dbb2a19",
        "colab": {
          "base_uri": "https://localhost:8080/"
        }
      },
      "outputs": [
        {
          "output_type": "execute_result",
          "data": {
            "text/plain": [
              "{'minimum': 90000, 'maximum': 130000, 'average': 108000.0}"
            ]
          },
          "metadata": {},
          "execution_count": 19
        }
      ],
      "source": [
        "# Code Needed\n",
        "salaries = [95000, 120000, 105000, 90000, 130000]\n",
        "\n",
        "def salary_statistics(salaries):\n",
        "  return {\n",
        "      'minimum': min(salaries),\n",
        "      'maximum': max(salaries),\n",
        "      'average': sum(salaries) / len(salaries)\n",
        "  }\n",
        "\n",
        "salary_statistics(salaries)"
      ]
    },
    {
      "cell_type": "markdown",
      "id": "99eed404",
      "metadata": {
        "id": "99eed404"
      },
      "source": [
        "---"
      ]
    },
    {
      "cell_type": "markdown",
      "id": "e833849f",
      "metadata": {
        "id": "e833849f"
      },
      "source": [
        "## 🟥 Job Posting Summary (1.16.4)"
      ]
    },
    {
      "cell_type": "code",
      "execution_count": 20,
      "id": "cb857ad6",
      "metadata": {
        "id": "cb857ad6"
      },
      "outputs": [],
      "source": [
        "# Code Needed\n",
        "# job_posting_summary full dict with keys posting_count, avg_salary, unique_location_count: optional argument w avg = salary['salary']\n",
        "\n",
        "job_postings = [\n",
        "    {'title': 'Data Scientist', 'location': 'New York', 'salary': 95000},\n",
        "    {'title': 'Data Analyst', 'location': 'San Francisco', 'salary': 85000},\n",
        "    {'title': 'Machine Learning Engineer', 'location': 'New York', 'salary': 115000}\n",
        "]\n",
        "\n",
        "def job_posting_summary(job_postings):\n",
        "    total_postings = len(job_postings)\n",
        "    total_salary = sum(posting['salary'] for posting in job_postings)\n",
        "    average_salary = total_salary / total_postings\n",
        "    unique_locations = list(set(posting['location'] for posting in job_postings))\n",
        "    return {\n",
        "        'total_postings': total_postings,\n",
        "        'average_salary': average_salary,\n",
        "        'unique_locations': unique_locations\n",
        "    }"
      ]
    },
    {
      "cell_type": "markdown",
      "id": "8b082c95",
      "metadata": {
        "id": "8b082c95"
      },
      "source": [
        "---"
      ]
    }
  ],
  "metadata": {
    "colab": {
      "provenance": [],
      "include_colab_link": true
    },
    "language_info": {
      "name": "python"
    },
    "kernelspec": {
      "name": "python3",
      "display_name": "Python 3"
    }
  },
  "nbformat": 4,
  "nbformat_minor": 5
}
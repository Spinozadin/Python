{
  "cells": [
    {
      "cell_type": "markdown",
      "id": "5c289cc9",
      "metadata": {
        "id": "5c289cc9"
      },
      "source": [
        "<a target=\"_blank\" href=\"https://colab.research.google.com/github/lukebarousse/Python_Data_Analytics_Course/blob/main/4_Problems/1_10_Sets.ipynb\">\n",
        "  <img src=\"https://colab.research.google.com/assets/colab-badge.svg\" alt=\"Open In Colab\"/>\n",
        "</a>"
      ]
    },
    {
      "cell_type": "markdown",
      "id": "96889df9",
      "metadata": {
        "id": "96889df9"
      },
      "source": [
        "## 🟩 Add Job Title to Set (1.10.1)"
      ]
    },
    {
      "cell_type": "code",
      "execution_count": 4,
      "id": "6fb688cc",
      "metadata": {
        "id": "6fb688cc",
        "outputId": "3805158a-7ccd-4b0c-8d74-f0821d632cf7",
        "colab": {
          "base_uri": "https://localhost:8080/"
        }
      },
      "outputs": [
        {
          "output_type": "stream",
          "name": "stdout",
          "text": [
            "{'Data Analyst', 'AI Specialist', 'Machine Learning Engineer', 'Data Scientist'}\n"
          ]
        }
      ],
      "source": [
        "# Code Needed\n",
        "unique_job_titles = {'Data Scientist', 'Data Analyst', 'Machine Learning Engineer'}\n",
        "\n",
        "unique_job_titles.add('AI Specialist')\n",
        "print(unique_job_titles)"
      ]
    },
    {
      "cell_type": "markdown",
      "source": [],
      "metadata": {
        "id": "r6m6bug7m23p"
      },
      "id": "r6m6bug7m23p"
    },
    {
      "cell_type": "markdown",
      "id": "2ce68b60",
      "metadata": {
        "id": "2ce68b60"
      },
      "source": [
        "---"
      ]
    },
    {
      "cell_type": "markdown",
      "id": "88c8936c",
      "metadata": {
        "id": "88c8936c"
      },
      "source": [
        "## 🟩 Remove Job Title from Set (1.10.2)"
      ]
    },
    {
      "cell_type": "code",
      "execution_count": 8,
      "id": "dd12611a",
      "metadata": {
        "id": "dd12611a",
        "outputId": "dac11f97-30d2-454a-a412-ba9f574a5a42",
        "colab": {
          "base_uri": "https://localhost:8080/"
        }
      },
      "outputs": [
        {
          "output_type": "stream",
          "name": "stdout",
          "text": [
            "{'Machine Learning Engineer', 'Data Scientist'}\n"
          ]
        }
      ],
      "source": [
        "# Code Needed\n",
        "unique_job_titles = {'Data Scientist', 'Data Analyst', 'Machine Learning Engineer'}\n",
        "\n",
        "unique_job_titles.remove('Data Analyst')\n",
        "print(unique_job_titles)"
      ]
    },
    {
      "cell_type": "markdown",
      "id": "4c803884",
      "metadata": {
        "id": "4c803884"
      },
      "source": [
        "---"
      ]
    },
    {
      "cell_type": "markdown",
      "id": "ec940385",
      "metadata": {
        "id": "ec940385"
      },
      "source": [
        "## 🟩 Create Unique Job Locations Set (1.10.3)"
      ]
    },
    {
      "cell_type": "code",
      "execution_count": 14,
      "id": "fd7983e1",
      "metadata": {
        "id": "fd7983e1"
      },
      "outputs": [],
      "source": [
        "# Code Needed\n",
        "job_locations = ['New York', 'San Francisco', 'New York', 'Austin', 'San Francisco']\n",
        "\n",
        "unique_job_locations = set(job_locations)"
      ]
    },
    {
      "cell_type": "markdown",
      "id": "bfac45d1",
      "metadata": {
        "id": "bfac45d1"
      },
      "source": [
        "---"
      ]
    },
    {
      "cell_type": "markdown",
      "id": "910d6bab",
      "metadata": {
        "id": "910d6bab"
      },
      "source": [
        "## 🟨 Union of Job Skills Sets (1.10.4)"
      ]
    },
    {
      "cell_type": "code",
      "execution_count": 19,
      "id": "75ba0d0c",
      "metadata": {
        "id": "75ba0d0c",
        "outputId": "b3ddf5c4-dfa8-43bf-b10f-439450c67bc9",
        "colab": {
          "base_uri": "https://localhost:8080/"
        }
      },
      "outputs": [
        {
          "output_type": "stream",
          "name": "stdout",
          "text": [
            "{'Machine Learning', 'SQL', 'R', 'Tableau', 'Python'}\n"
          ]
        }
      ],
      "source": [
        "# Code Needed\n",
        "skills_set1 = {'Python', 'SQL', 'Tableau'}\n",
        "skills_set2 = {'R', 'SQL', 'Machine Learning'}\n",
        "\n",
        "all_skills = skills_set1.union(skills_set2)\n",
        "\n",
        "print(all_skills)"
      ]
    },
    {
      "cell_type": "code",
      "source": [],
      "metadata": {
        "id": "YCO64YbPo4iX"
      },
      "id": "YCO64YbPo4iX",
      "execution_count": null,
      "outputs": []
    },
    {
      "cell_type": "markdown",
      "id": "55d254da",
      "metadata": {
        "id": "55d254da"
      },
      "source": [
        "---"
      ]
    }
  ],
  "metadata": {
    "colab": {
      "provenance": []
    },
    "language_info": {
      "name": "python"
    },
    "kernelspec": {
      "name": "python3",
      "display_name": "Python 3"
    }
  },
  "nbformat": 4,
  "nbformat_minor": 5
}
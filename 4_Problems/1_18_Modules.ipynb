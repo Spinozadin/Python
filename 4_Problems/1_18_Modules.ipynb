{
  "cells": [
    {
      "cell_type": "markdown",
      "id": "54c69af0",
      "metadata": {
        "id": "54c69af0"
      },
      "source": [
        "<a target=\"_blank\" href=\"https://colab.research.google.com/github/lukebarousse/Python_Data_Analytics_Course/blob/main/4_Problems/1_18_Modules.ipynb\">\n",
        "  <img src=\"https://colab.research.google.com/assets/colab-badge.svg\" alt=\"Open In Colab\"/>\n",
        "</a>"
      ]
    },
    {
      "cell_type": "markdown",
      "id": "6275a2c8",
      "metadata": {
        "id": "6275a2c8"
      },
      "source": [
        "## 🟩 Calculate Annual Salary (1.18.1)"
      ]
    },
    {
      "cell_type": "code",
      "execution_count": 1,
      "id": "61852e86",
      "metadata": {
        "id": "61852e86",
        "outputId": "c5c7cdab-e737-4a68-e802-5abe808ff241",
        "colab": {
          "base_uri": "https://localhost:8080/"
        }
      },
      "outputs": [
        {
          "output_type": "stream",
          "name": "stdout",
          "text": [
            "Writing salary_calculator.py\n"
          ]
        }
      ],
      "source": [
        "%%writefile salary_calculator.py\n",
        "# cell magic command to write the contents of this cell to a file called salary_calculator.py"
      ]
    },
    {
      "cell_type": "code",
      "source": [
        "import salary_calculator\n",
        "annual_salary = salary_calculator.calculate_annual_salary(50, 40)\n",
        "print(annual_salary)"
      ],
      "metadata": {
        "id": "1wnS8icPCd5z",
        "outputId": "ff3095a6-6443-44f7-c232-85fbec789255",
        "colab": {
          "base_uri": "https://localhost:8080/"
        }
      },
      "id": "1wnS8icPCd5z",
      "execution_count": 6,
      "outputs": [
        {
          "output_type": "stream",
          "name": "stdout",
          "text": [
            "104000\n"
          ]
        }
      ]
    },
    {
      "cell_type": "markdown",
      "id": "1105769b",
      "metadata": {
        "id": "1105769b"
      },
      "source": [
        "---"
      ]
    },
    {
      "cell_type": "markdown",
      "id": "ad5f9e59",
      "metadata": {
        "id": "ad5f9e59"
      },
      "source": [
        "## 🟨 Filter Job Postings by Location (1.18.2)"
      ]
    },
    {
      "cell_type": "code",
      "execution_count": 7,
      "id": "50c82097",
      "metadata": {
        "id": "50c82097",
        "outputId": "195d9361-e136-4090-b459-188164766d31",
        "colab": {
          "base_uri": "https://localhost:8080/"
        }
      },
      "outputs": [
        {
          "output_type": "stream",
          "name": "stdout",
          "text": [
            "Writing job_filter.py\n"
          ]
        }
      ],
      "source": [
        "%%writefile job_filter.py\n",
        "# cell magic command to write the contents of this cell to a file called job_filter.py"
      ]
    },
    {
      "cell_type": "code",
      "execution_count": 8,
      "id": "2b9e6953",
      "metadata": {
        "id": "2b9e6953"
      },
      "outputs": [],
      "source": [
        "# Code Needed\n",
        "job_postings = [\n",
        "    {'title': 'Data Scientist', 'location': 'New York'},\n",
        "    {'title': 'Data Analyst', 'location': 'San Francisco'},\n",
        "    {'title': 'Machine Learning Engineer', 'location': 'New York'}\n",
        "]"
      ]
    },
    {
      "cell_type": "code",
      "source": [
        "def filter_by_location(job_postings, location):\n",
        "  return [job for job in job_postings if job['location'] == location]"
      ],
      "metadata": {
        "id": "a9W9EPrdDmRO"
      },
      "id": "a9W9EPrdDmRO",
      "execution_count": 9,
      "outputs": []
    },
    {
      "cell_type": "markdown",
      "id": "e1861164",
      "metadata": {
        "id": "e1861164"
      },
      "source": [
        "---"
      ]
    },
    {
      "cell_type": "code",
      "source": [
        "import job_filter\n",
        "\n",
        "filtered_jobs = job_filter.filter_by_location(job_postings, 'New York')\n",
        "print(filtered_jobs)"
      ],
      "metadata": {
        "id": "s7op6U4-ETYj",
        "outputId": "6deea88c-0011-444c-cbdf-5f190b71a846",
        "colab": {
          "base_uri": "https://localhost:8080/"
        }
      },
      "id": "s7op6U4-ETYj",
      "execution_count": 11,
      "outputs": [
        {
          "output_type": "stream",
          "name": "stdout",
          "text": [
            "[{'title': 'Data Scientist', 'location': 'New York'}, {'title': 'Machine Learning Engineer', 'location': 'New York'}]\n"
          ]
        }
      ]
    },
    {
      "cell_type": "markdown",
      "source": [],
      "metadata": {
        "id": "tRwTXKf_ETGi"
      },
      "id": "tRwTXKf_ETGi"
    }
  ],
  "metadata": {
    "language_info": {
      "name": "python"
    },
    "colab": {
      "provenance": []
    },
    "kernelspec": {
      "name": "python3",
      "display_name": "Python 3"
    }
  },
  "nbformat": 4,
  "nbformat_minor": 5
}